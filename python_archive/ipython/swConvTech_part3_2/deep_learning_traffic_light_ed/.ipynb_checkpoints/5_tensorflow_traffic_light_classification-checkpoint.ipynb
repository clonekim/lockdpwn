{
 "cells": [
  {
   "cell_type": "markdown",
   "metadata": {},
   "source": [
    "In this notebook, we'll create a framework for image classification in Tensorflow.\n",
    "\n",
    "This code should be replicable to any image task with a few changes.\n",
    "\n",
    "Our specific task will be to classify images of traffic lights as red, yellow, or green."
   ]
  },
  {
   "cell_type": "code",
   "execution_count": 1,
   "metadata": {},
   "outputs": [],
   "source": [
    "#!/usr/bin/python2\n",
    "\n",
    "%matplotlib inline\n",
    "\n",
    "import sys, os, time\n",
    "import itertools\n",
    "import math, random\n",
    "import glob\n",
    "import tensorflow as tf\n",
    "import numpy as np\n",
    "import cv2\n",
    "from sklearn.metrics import confusion_matrix\n",
    "import matplotlib.pyplot as plt\n",
    "from IPython.display import Image, display\n",
    "import warnings\n",
    "warnings.filterwarnings('ignore')"
   ]
  },
  {
   "cell_type": "code",
   "execution_count": 12,
   "metadata": {},
   "outputs": [],
   "source": [
    "# Basic parameters\n",
    "\n",
    "max_epochs = 25\n",
    "base_image_path = \"5_tensorflow_traffic_light_images/\"\n",
    "image_types = [\"red\", \"green\", \"yellow\"]\n",
    "input_img_x = 32\n",
    "input_img_y = 32\n",
    "train_test_split_ratio = 0.9\n",
    "batch_size = 32\n",
    "checkpoint_name = \"./model.ckpt\""
   ]
  },
  {
   "cell_type": "code",
   "execution_count": 3,
   "metadata": {},
   "outputs": [],
   "source": [
    "# Helper layer functions\n",
    "def weight_variable(shape):\n",
    "    initial = tf.truncated_normal(shape, stddev=0.1)\n",
    "    return tf.Variable(initial)\n",
    "\n",
    "def bias_variable(shape):\n",
    "    initial = tf.constant(0.1, shape=shape)\n",
    "    return tf.Variable(initial)\n",
    "\n",
    "def conv2d(x, W, stride):\n",
    "    return tf.nn.conv2d(x, W, strides=[1, stride, stride, 1], padding='SAME')\n",
    "\n",
    "\n",
    "def max_pool_2x2(x):\n",
    "    return tf.nn.max_pool(x, ksize=[1, 2, 2, 1],\n",
    "                        strides=[1, 2, 2, 1], padding='SAME')\n"
   ]
  },
  {
   "cell_type": "code",
   "execution_count": 5,
   "metadata": {},
   "outputs": [],
   "source": [
    "# Model\n",
    "\n",
    "x = tf.placeholder(tf.float32, shape=[None, input_img_x, input_img_y, 3])\n",
    "y_ = tf.placeholder(tf.float32, shape=[None, len(image_types)])"
   ]
  },
  {
   "cell_type": "code",
   "execution_count": 6,
   "metadata": {},
   "outputs": [],
   "source": [
    "# Model - THIS PART SHOULD BE SAVED SEPARATELY IN \"model.txt\" file, SO IT CAN BE RETRIEVED AUTOMATICALLY BY \"ranking.ipynb\"\n",
    "\n",
    "#START-------------------------------------------------------------------------\n",
    "# Function added for VALID option\n",
    "def conv2d_valid(x, W, stride):\n",
    "    return tf.nn.conv2d(x, W, strides=[1, stride, stride, 1], padding='VALID')\n",
    "\n",
    "\n",
    "x_image = x\n",
    "\n",
    "\n",
    "# 1st conv layer-----------------------------\n",
    "W_conv1 = weight_variable([3, 3, 3, 16])\n",
    "b_conv1 = bias_variable([16])\n",
    "\n",
    "h_conv1 = tf.nn.relu(conv2d(x_image, W_conv1, 1) + b_conv1)\n",
    "h_pool1 = max_pool_2x2(h_conv1) # (32,32) ==> (16,16)\n",
    "\n",
    "\n",
    "# 2nd conv layer-----------------------------\n",
    "W_conv2 = weight_variable([5,5,16,32])\n",
    "b_conv2 = weight_variable([32]) \n",
    "\n",
    "h_conv2 = tf.nn.relu(conv2d(h_pool1, W_conv2, 1) + b_conv2)\n",
    "h_pool2 = max_pool_2x2(h_conv2) # (16,16) ==> (8,8)\n",
    "\n",
    "\n",
    "# 3rd conv layer-----------------------------\n",
    "W_conv3 = weight_variable([3,3,32,64])\n",
    "b_conv3 = weight_variable([64])\n",
    "\n",
    "h_conv3 = tf.nn.relu(conv2d_valid(h_pool2, W_conv3, 1) + b_conv3) # (8,8) ==> (6,6)\n",
    "h_pool3 = max_pool_2x2(h_conv3) # (6,6) ==> (3,3)\n",
    "\n",
    "\n",
    "# 4th conv layer-----------------------------\n",
    "W_conv4 = weight_variable([4,4,64,128])\n",
    "b_conv4 = weight_variable([128])\n",
    "\n",
    "h_conv4 = tf.nn.relu(conv2d(h_pool3, W_conv4, 1) + b_conv4) # (3,3) ==> (3,3)\n",
    "\n",
    "\n",
    "# 1st Fully Connected layer------------------------\n",
    "n1, n2, n3, n4 = h_conv4.get_shape().as_list()\n",
    "\n",
    "W_fc1 = weight_variable([n2*n3*n4, 3000])\n",
    "b_fc1 = bias_variable([3000])\n",
    "\n",
    "h_pool1_flat = tf.reshape(h_conv4, [-1, n2*n3*n4]) \n",
    "h_fc1 = tf.nn.relu(tf.matmul(h_pool1_flat, W_fc1) + b_fc1) # (3,3) ==> (3000,1)\n",
    "\n",
    "\n",
    "# Dropout-----------------------------------------\n",
    "keep_prob = tf.placeholder(tf.float32)\n",
    "h_fc1_drop = tf.nn.dropout(h_fc1, keep_prob)\n",
    "\n",
    "\n",
    "# 2nd Fully Connected layer------------------------\n",
    "W_fc2 = weight_variable([3000, 3])\n",
    "b_fc2 = bias_variable([3])\n",
    "\n",
    "y = tf.matmul(h_fc1_drop, W_fc2) + b_fc2  # (3000,1) ==> (3,1)\n",
    "\n",
    "\n",
    "#  Dictionary save \n",
    "saver = tf.train.Saver({'W_conv1' : W_conv1, 'b_conv1' : b_conv1, 'W_conv2' : W_conv2,'b_conv2' : b_conv2, 'W_conv3' : W_conv3, 'b_conv3' : b_conv3, 'W_conv4' : W_conv4,'b_conv4' : b_conv4, 'W_fc1' : W_fc1, 'b_fc1' : b_fc1, 'W_fc2' : W_fc2, 'b_fc2' : b_fc2})\n"
   ]
  },
  {
   "cell_type": "code",
   "execution_count": 7,
   "metadata": {},
   "outputs": [],
   "source": [
    "sess = tf.InteractiveSession()"
   ]
  },
  {
   "cell_type": "code",
   "execution_count": 8,
   "metadata": {},
   "outputs": [
    {
     "name": "stdout",
     "output_type": "stream",
     "text": [
      "WARNING:tensorflow:From c:\\users\\edward\\anaconda3\\envs\\tf\\lib\\site-packages\\tensorflow\\python\\util\\tf_should_use.py:107: initialize_all_variables (from tensorflow.python.ops.variables) is deprecated and will be removed after 2017-03-02.\n",
      "Instructions for updating:\n",
      "Use `tf.global_variables_initializer` instead.\n"
     ]
    }
   ],
   "source": [
    "# Our loss function and optimizer\n",
    "\n",
    "# ed: loss func, optimizer 변경하고 싶으면 변경하면 된다\n",
    "loss = tf.reduce_mean(tf.nn.softmax_cross_entropy_with_logits(labels = y_, logits = y))\n",
    "train_step = tf.train.AdamOptimizer(1e-4, 0.9).minimize(loss)\n",
    "sess.run(tf.initialize_all_variables())"
   ]
  },
  {
   "cell_type": "code",
   "execution_count": 9,
   "metadata": {},
   "outputs": [],
   "source": [
    "v_loss = least_loss = 99999999\n",
    "\n",
    "# Load data\n",
    "\n",
    "full_set = []\n",
    "\n",
    "# ed: Train set, Test set을 나누는 코드\n",
    "for im_type in image_types:\n",
    "    for ex in glob.glob(os.path.join(base_image_path, im_type, \"*\")):\n",
    "        im = cv2.imread(ex)\n",
    "        if not im is None:\n",
    "            im = cv2.resize(im, (32, 32))\n",
    "\n",
    "            # Create an array representing our classes and set it\n",
    "            one_hot_array = [0] * len(image_types)\n",
    "            one_hot_array[image_types.index(im_type)] = 1\n",
    "\n",
    "            assert(im.shape == (32, 32, 3))\n",
    "\n",
    "            full_set.append((im, one_hot_array, ex))\n",
    "\n",
    "random.shuffle(full_set)\n"
   ]
  },
  {
   "cell_type": "code",
   "execution_count": 10,
   "metadata": {},
   "outputs": [],
   "source": [
    "# We split our data into a training and test set here\n",
    "\n",
    "split_index = int(math.floor(len(full_set) * train_test_split_ratio))\n",
    "train_set = full_set[:split_index]\n",
    "test_set = full_set[split_index:]\n",
    "\n",
    "# We ensure that our training and test sets are a multiple of batch size\n",
    "train_set_offset = len(train_set) % batch_size\n",
    "test_set_offset = len(test_set) % batch_size\n",
    "train_set = train_set[: len(train_set) - train_set_offset]\n",
    "test_set = test_set[: len(test_set) - test_set_offset]\n",
    "\n",
    "train_x, train_y, train_z = zip(*train_set)\n",
    "test_x, test_y, test_z = zip(*test_set)"
   ]
  },
  {
   "cell_type": "code",
   "execution_count": 13,
   "metadata": {
    "scrolled": false
   },
   "outputs": [
    {
     "name": "stdout",
     "output_type": "stream",
     "text": [
      "Starting training... [1312 training examples]\n",
      "Epoch     1: loss:    8.5140800476, val. loss:   22.1070327759, saving new best model to ./model.ckpt\n",
      "Epoch     2: loss:    2.4468314648, val. loss:    0.0000000000, saving new best model to ./model.ckpt\n",
      "Epoch     3: loss:    2.5332162380, val. loss:    5.6482772827\n",
      "Epoch     4: loss:    0.7875685096, val. loss:    4.1010608673\n",
      "Epoch     5: loss:    0.4192380309, val. loss:    0.5910985470\n",
      "Epoch     6: loss:    0.9686814547, val. loss:    3.5781481266\n",
      "Epoch     7: loss:    0.5236766934, val. loss:    2.6411135197\n",
      "Epoch     8: loss:    0.2257068902, val. loss:    0.0000000000\n",
      "Epoch     9: loss:    0.4911589324, val. loss:    0.6959505081\n",
      "Epoch    10: loss:    0.2471817285, val. loss:    0.2742981911\n",
      "Epoch    11: loss:    0.5995287299, val. loss:    1.8804168701\n",
      "Epoch    12: loss:    0.1277749091, val. loss:    0.0000000000\n",
      "Epoch    13: loss:    0.0734642297, val. loss:    0.7161898613\n",
      "Epoch    14: loss:    0.7226734757, val. loss:    0.3950505257\n",
      "Epoch    15: loss:    0.0859872326, val. loss:    0.0000000000\n",
      "Epoch    16: loss:    0.4924017191, val. loss:    0.0000000000\n",
      "Epoch    17: loss:    0.0000000000, val. loss:    0.0000000000\n",
      "Epoch    18: loss:    0.7309997678, val. loss:    0.0000000000\n",
      "Epoch    19: loss:    0.0328949727, val. loss:    0.0000000000\n",
      "Epoch    20: loss:    0.0000000000, val. loss:    0.0000000000\n",
      "Epoch    21: loss:    0.1131272167, val. loss:    0.0000000000\n",
      "Epoch    22: loss:    0.0000000000, val. loss:    0.0000000000\n",
      "Epoch    23: loss:    0.0000000000, val. loss:    0.0000000000\n",
      "Epoch    24: loss:    0.0000000000, val. loss:    0.0000000000\n",
      "Epoch    25: loss:    0.0000000000, val. loss:    0.0000000000\n"
     ]
    }
   ],
   "source": [
    "print(\"Starting training... [{} training examples]\".format(len(train_x)))\n",
    "\n",
    "v_loss = 9999999\n",
    "train_loss = []\n",
    "val_loss = []\n",
    "\n",
    "for i in range(0, max_epochs):\n",
    "\n",
    "    # Iterate over our training set\n",
    "    for tt in range(0, (len(train_x) // batch_size)):\n",
    "        start_batch = batch_size * tt\n",
    "        end_batch = batch_size * (tt + 1)\n",
    "        train_step.run(feed_dict={x: train_x[start_batch:end_batch], y_: train_y[start_batch:end_batch], keep_prob:0.5})\n",
    "        ex_seen = \"Current epoch, examples seen: {:20} / {} \\r\".format(tt * batch_size, len(train_x))\n",
    "        sys.stdout.write(ex_seen.format(tt * batch_size))\n",
    "        sys.stdout.flush()\n",
    "\n",
    "    ex_seen = \"Current epoch, examples seen: {:20} / {} \\r\".format((tt + 1) * batch_size, len(train_x))\n",
    "    sys.stdout.write(ex_seen.format(tt * batch_size))\n",
    "    sys.stdout.flush()\n",
    "\n",
    "    t_loss = loss.eval(feed_dict={x: train_x, y_: train_y,  keep_prob:1.0})\n",
    "    v_loss = loss.eval(feed_dict={x: test_x, y_: test_y, keep_prob:1.0})\n",
    "    \n",
    "    train_loss.append(t_loss)\n",
    "    val_loss.append(v_loss)\n",
    "\n",
    "    sys.stdout.write(\"Epoch {:5}: loss: {:15.10f}, val. loss: {:15.10f}\".format(i + 1, t_loss, v_loss))\n",
    "\n",
    "    # ed: v_loss가 제일 낮을 경우에만 파라미터를 저장한다\n",
    "    if v_loss < least_loss:\n",
    "        sys.stdout.write(\", saving new best model to {}\".format(checkpoint_name))\n",
    "        least_loss = v_loss\n",
    "        filename = saver.save(sess, checkpoint_name)\n",
    "\n",
    "    sys.stdout.write(\"\\n\")"
   ]
  },
  {
   "cell_type": "code",
   "execution_count": 14,
   "metadata": {},
   "outputs": [
    {
     "data": {
      "image/png": "[encoded data removed]",
      "text/plain": [
       "<matplotlib.figure.Figure at 0x240cb7b37b8>"
      ]
     },
     "metadata": {},
     "output_type": "display_data"
    }
   ],
   "source": [
    "# ed: 윗부분까지가 사실상 끝난 것이다. 아랫부분은 analyze 부분\n",
    "\n",
    "plt.figure()\n",
    "plt.xticks(np.arange(0, len(train_loss), 1.0))\n",
    "plt.ylabel(\"Loss\")\n",
    "plt.xlabel(\"Epochs\")\n",
    "train_line = plt.plot(range(0, len(train_loss)), train_loss, 'r', label=\"Train loss\")\n",
    "val_line = plt.plot(range(0, len(val_loss)), val_loss, 'g', label=\"Validation loss\")\n",
    "plt.legend()\n",
    "plt.show()"
   ]
  },
  {
   "cell_type": "markdown",
   "metadata": {},
   "source": [
    "Let's print the examples from our test set that were wrong:"
   ]
  },
  {
   "cell_type": "code",
   "execution_count": 15,
   "metadata": {},
   "outputs": [],
   "source": [
    "zipped_x_y = list(zip(test_x, test_y))\n",
    "conf_true = []\n",
    "conf_pred = []\n",
    "for tt in range(0, len(zipped_x_y)):\n",
    "    q = zipped_x_y[tt]\n",
    "    sfmax = list(sess.run(tf.nn.softmax(y.eval(feed_dict={x: [q[0]], keep_prob:1.0})))[0])\n",
    "    sf_ind = sfmax.index(max(sfmax))\n",
    "    \n",
    "    predicted_label = image_types[sf_ind]\n",
    "    actual_label = image_types[q[1].index(max(q[1]))]\n",
    "    \n",
    "    conf_true.append(actual_label)\n",
    "    conf_pred.append(predicted_label)\n",
    "    \n",
    "    if predicted_label != actual_label:\n",
    "        print(\"Actual: {}, predicted: {}\".format(actual_label, predicted_label))\n",
    "        img_path = test_z[tt]    \n",
    "        ex_img = Image(filename=img_path)\n",
    "        display(ex_img)"
   ]
  },
  {
   "cell_type": "code",
   "execution_count": 16,
   "metadata": {
    "scrolled": true
   },
   "outputs": [
    {
     "data": {
      "image/png": "[encoded data removed]",
      "text/plain": [
       "<matplotlib.figure.Figure at 0x240d7cdb048>"
      ]
     },
     "metadata": {},
     "output_type": "display_data"
    }
   ],
   "source": [
    "# From sklearn docs\n",
    "def plot_confusion_matrix(cm, classes,\n",
    "                          normalize=False,\n",
    "                          title='Confusion matrix',\n",
    "                          cmap=plt.cm.Blues):\n",
    "    \"\"\"\n",
    "    This function prints and plots the confusion matrix.\n",
    "    Normalization can be applied by setting `normalize=True`.\n",
    "    \"\"\"\n",
    "    plt.imshow(cm, interpolation='nearest', cmap=cmap)\n",
    "    plt.title(title)\n",
    "    plt.colorbar()\n",
    "    tick_marks = np.arange(len(classes))\n",
    "    plt.xticks(tick_marks, classes, rotation=45)\n",
    "    plt.yticks(tick_marks, classes)\n",
    "\n",
    "    cm2 = cm.astype('float') / cm.sum(axis=1)[:, np.newaxis]\n",
    "\n",
    "    cm2 = np.around(cm2, 2)\n",
    "\n",
    "    thresh = cm.max() / 2.\n",
    "    for i, j in itertools.product(range(cm.shape[0]), range(cm.shape[1])):\n",
    "        plt.text(j, i, str(cm[i, j]) + \" / \" + str(cm2[i, j]),\n",
    "                 horizontalalignment=\"center\",\n",
    "                 color=\"white\" if cm[i, j] > thresh else \"black\")\n",
    "\n",
    "    plt.tight_layout()\n",
    "    plt.ylabel('True label')\n",
    "    plt.xlabel('Predicted label')\n",
    "\n",
    "cnf_matrix = confusion_matrix(conf_true, conf_pred)\n",
    "plt.figure()\n",
    "plot_confusion_matrix(cnf_matrix, classes=image_types, normalize=False,\n",
    "                      title='Normalized confusion matrix')\n",
    "plt.show()"
   ]
  },
  {
   "cell_type": "code",
   "execution_count": null,
   "metadata": {},
   "outputs": [],
   "source": []
  }
 ],
 "metadata": {
  "kernelspec": {
   "display_name": "Python 3",
   "language": "python",
   "name": "python3"
  },
  "language_info": {
   "codemirror_mode": {
    "name": "ipython",
    "version": 3
   },
   "file_extension": ".py",
   "mimetype": "text/x-python",
   "name": "python",
   "nbconvert_exporter": "python",
   "pygments_lexer": "ipython3",
   "version": "3.5.4"
  }
 },
 "nbformat": 4,
 "nbformat_minor": 2
}
